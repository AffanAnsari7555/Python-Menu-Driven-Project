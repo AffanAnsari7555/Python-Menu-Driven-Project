{
 "cells": [
  {
   "cell_type": "markdown",
   "id": "0f2e5005",
   "metadata": {},
   "source": [
    "## MENU DRIVEN PYTHON PROJECT"
   ]
  },
  {
   "cell_type": "markdown",
   "id": "8cc86283",
   "metadata": {},
   "source": [
    "### Hotel Menu"
   ]
  },
  {
   "cell_type": "code",
   "execution_count": 3,
   "id": "2e597b88",
   "metadata": {},
   "outputs": [
    {
     "name": "stdout",
     "output_type": "stream",
     "text": [
      "1.Deluxe Thali \n",
      "2.Shahi Paneer \n",
      "3.Butter Naan \n",
      "4.Butter Chicken \n",
      "5.Chhole Bhature \n",
      "6.Pani puri \n",
      "7.Shawarma \n",
      "8.French Fries \n",
      "9.Sandwich \n",
      "10.Pizza \n",
      "11.Burger \n",
      "12.Momos\n"
     ]
    }
   ],
   "source": [
    "print(\"1.Deluxe Thali \\n2.Shahi Paneer \\n3.Butter Naan \\n4.Butter Chicken \\n5.Chhole Bhature \\n6.Pani puri \\n7.Shawarma \\n8.French Fries \\n9.Sandwich \\n10.Pizza \\n11.Burger \\n12.Momos\")"
   ]
  },
  {
   "cell_type": "code",
   "execution_count": 4,
   "id": "50c2e0ba",
   "metadata": {},
   "outputs": [
    {
     "name": "stdout",
     "output_type": "stream",
     "text": [
      "Please Select The Item That You Want To Order : 4\n",
      "Hurray! Your Order is placed and it will be served to you as soon as possible. Thank You!!\n",
      "Kindly wait for your order\n"
     ]
    }
   ],
   "source": [
    "user = input(\"Please Select The Item That You Want To Order : \")\n",
    "if(user=='1' or user==\"Deluxe Thali\"):\n",
    "    print(\"Hurray! Your Order is placed and it will be served to you as soon as possible. Thank You!!\")\n",
    "    print(\"Kindly wait for your order\")\n",
    "elif(user=='2' or user==\"Shahi Paneer\"):\n",
    "    print(\"Hurray! Your Order is placed and it will be served to you as soon as possible. Thank You!!\")\n",
    "    print(\"Kindly wait for your order\")\n",
    "elif(user=='3' or user==\"Butter Naan\"):\n",
    "    print(\"Hurray! Your Order is placed and it will be served to you as soon as possible. Thank You!!\")\n",
    "    print(\"Kindly wait for your order\")\n",
    "elif(user=='4' or user==\"Butter Chicken\"):\n",
    "    print(\"Hurray! Your Order is placed and it will be served to you as soon as possible. Thank You!!\")\n",
    "    print(\"Kindly wait for your order\")\n",
    "elif(user=='5' or user==\"Chhole Bhature\"):\n",
    "    print(\"Hurray! Your Order is placed and it will be served to you as soon as possible. Thank You!!\")\n",
    "    print(\"Kindly wait for your order\")\n",
    "elif(user=='6' or user==\"Pani puri\"):\n",
    "    print(\"Hurray! Your Order is placed and it will be served to you as soon as possible. Thank You!!\")\n",
    "    print(\"Kindly wait for your order\")\n",
    "elif(user=='7' or user==\"Shawarma\"):\n",
    "    print(\"Hurray! Your Order is placed and it will be served to you as soon as possible. Thank You!!\")\n",
    "    print(\"Kindly wait for your order\")\n",
    "elif(user=='8' or user==\"French Fries\"):\n",
    "    print(\"Hurray! Your Order is placed and it will be served to you as soon as possible. Thank You!!\")\n",
    "    print(\"Kindly wait for your order\")\n",
    "elif(user=='9' or user==\"Sandwich\"):\n",
    "    print(\"Hurray! Your Order is placed and it will be served to you as soon as possible. Thank You!!\")\n",
    "    print(\"Kindly wait for your order\")\n",
    "elif(user=='10' or user==\"Pizza\"):\n",
    "    print(\"Hurray! Your Order is placed and it will be served to you as soon as possible. Thank You!!\")\n",
    "    print(\"Kindly wait for your order\")\n",
    "elif(user=='11' or user==\"Burger\"):\n",
    "    print(\"Hurray! Your Order is placed and it will be served to you as soon as possible. Thank You!!\")\n",
    "    print(\"Kindly wait for your order\")\n",
    "elif(user=='12' or user==\"Momos\"):\n",
    "    print(\"Hurray! Your Order is placed and it will be served to you as soon as possible. Thank You!!\")\n",
    "    print(\"Kindly wait for your order\")\n",
    "else:\n",
    "    print(\"Sorry! We dont have this item at the moment. Please try something else\")"
   ]
  },
  {
   "cell_type": "code",
   "execution_count": null,
   "id": "c11f27d6",
   "metadata": {},
   "outputs": [],
   "source": []
  }
 ],
 "metadata": {
  "kernelspec": {
   "display_name": "Python 3 (ipykernel)",
   "language": "python",
   "name": "python3"
  },
  "language_info": {
   "codemirror_mode": {
    "name": "ipython",
    "version": 3
   },
   "file_extension": ".py",
   "mimetype": "text/x-python",
   "name": "python",
   "nbconvert_exporter": "python",
   "pygments_lexer": "ipython3",
   "version": "3.11.5"
  }
 },
 "nbformat": 4,
 "nbformat_minor": 5
}
